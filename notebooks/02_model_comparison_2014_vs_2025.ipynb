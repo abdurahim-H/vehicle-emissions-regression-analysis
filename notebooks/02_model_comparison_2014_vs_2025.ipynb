{
 "cells": [
  {
   "cell_type": "markdown",
   "id": "0c7bdb5c",
   "metadata": {},
   "source": [
    "# Comparing Vehicle Emissions Models: 2014 vs 2025\n",
    "\n",
    "This notebook compares the relationship between vehicle characteristics and CO2 emissions between 2014 and 2025 datasets."
   ]
  },
  {
   "cell_type": "code",
   "execution_count": null,
   "id": "4af1720b",
   "metadata": {},
   "outputs": [],
   "source": [
    "import sys\n",
    "sys.path.append('../')\n",
    "\n",
    "import numpy as np\n",
    "import pandas as pd\n",
    "import matplotlib.pyplot as plt\n",
    "import seaborn as sns\n",
    "\n",
    "from src.data_loader import load_2014_data, load_2025_data\n",
    "from src.models import train_basic_models, train_advanced_models\n",
    "from src.visualization import plot_regression_models, plot_correlation_matrix\n",
    "\n",
    "%matplotlib inline"
   ]
  },
  {
   "cell_type": "markdown",
   "id": "dd32ce43",
   "metadata": {},
   "source": [
    "## Load Both Datasets"
   ]
  },
  {
   "cell_type": "code",
   "execution_count": null,
   "id": "2aea10f1",
   "metadata": {},
   "outputs": [],
   "source": [
    "# Load datasets\n",
    "df_2014 = load_2014_data()\n",
    "df_2025 = load_2025_data()\n",
    "\n",
    "print(\"2014 Dataset Shape:\", df_2014.shape)\n",
    "print(\"2025 Dataset Shape:\", df_2025.shape)"
   ]
  },
  {
   "cell_type": "markdown",
   "id": "c55f44e3",
   "metadata": {},
   "source": [
    "## Compare Basic Statistics"
   ]
  },
  {
   "cell_type": "code",
   "execution_count": null,
   "id": "a3b5efe0",
   "metadata": {},
   "outputs": [],
   "source": [
    "# Compare statistics\n",
    "print(\"2014 Dataset Statistics:\")\n",
    "print(df_2014.describe())\n",
    "print(\"\\n2025 Dataset Statistics:\")\n",
    "print(df_2025.describe())"
   ]
  },
  {
   "cell_type": "markdown",
   "id": "3582ac0b",
   "metadata": {},
   "source": [
    "## Train Models on Both Datasets"
   ]
  },
  {
   "cell_type": "code",
   "execution_count": null,
   "id": "bcdd2d97",
   "metadata": {},
   "outputs": [],
   "source": [
    "# Train models on 2014 data\n",
    "results_2014 = train_basic_models(df_2014)\n",
    "\n",
    "# Train models on 2025 data\n",
    "results_2025 = train_basic_models(df_2025)"
   ]
  },
  {
   "cell_type": "markdown",
   "id": "032dd405",
   "metadata": {},
   "source": [
    "## Compare Model Performance"
   ]
  },
  {
   "cell_type": "code",
   "execution_count": null,
   "id": "2eae5a0b",
   "metadata": {},
   "outputs": [],
   "source": [
    "# Create comparison table\n",
    "model_names = ['engine', 'fuel', 'cylinders', 'multiple']\n",
    "comparison_data = []\n",
    "\n",
    "for model in model_names:\n",
    "    comparison_data.append({\n",
    "        'Model': model.capitalize(),\n",
    "        '2014 R²': results_2014['metrics'][model]['r2'],\n",
    "        '2025 R²': results_2025['metrics'][model]['r2'],\n",
    "        'Change in R²': results_2025['metrics'][model]['r2'] - results_2014['metrics'][model]['r2']\n",
    "    })\n",
    "    \n",
    "comparison_df = pd.DataFrame(comparison_data)\n",
    "comparison_df"
   ]
  },
  {
   "cell_type": "code",
   "execution_count": null,
   "id": "ae157f78",
   "metadata": {},
   "outputs": [],
   "source": [
    "# Visualize the comparison\n",
    "plt.figure(figsize=(10, 6))\n",
    "bar_width = 0.35\n",
    "index = np.arange(len(model_names))\n",
    "\n",
    "plt.bar(index, comparison_df['2014 R²'], bar_width, label='2014')\n",
    "plt.bar(index + bar_width, comparison_df['2025 R²'], bar_width, label='2025')\n",
    "\n",
    "plt.xlabel('Model Type')\n",
    "plt.ylabel('R² Score')\n",
    "plt.title('Model Performance Comparison: 2014 vs 2025')\n",
    "plt.xticks(index + bar_width / 2, [name.capitalize() for name in model_names])\n",
    "plt.legend()\n",
    "plt.tight_layout()\n",
    "\n",
    "# Save the figure\n",
    "plt.savefig('../visualizations/model_comparison_2014_vs_2025.png')\n",
    "plt.show()"
   ]
  },
  {
   "cell_type": "markdown",
   "id": "85491b37",
   "metadata": {},
   "source": [
    "## Compare Correlation Matrices"
   ]
  },
  {
   "cell_type": "code",
   "execution_count": null,
   "id": "ab46e2a8",
   "metadata": {},
   "outputs": [],
   "source": [
    "# 2014 Correlation matrix\n",
    "plt.figure(figsize=(12, 5))\n",
    "\n",
    "plt.subplot(1, 2, 1)\n",
    "sns.heatmap(df_2014.corr(), annot=True, cmap='coolwarm', fmt='.2f')\n",
    "plt.title('2014 Correlation Matrix')\n",
    "\n",
    "plt.subplot(1, 2, 2)\n",
    "sns.heatmap(df_2025.corr(), annot=True, cmap='coolwarm', fmt='.2f')\n",
    "plt.title('2025 Correlation Matrix')\n",
    "\n",
    "plt.tight_layout()\n",
    "plt.savefig('../visualizations/correlation_comparison.png')\n",
    "plt.show()"
   ]
  },
  {
   "cell_type": "markdown",
   "id": "1317edd8",
   "metadata": {},
   "source": [
    "## Train Advanced Models on Both Datasets"
   ]
  },
  {
   "cell_type": "code",
   "execution_count": null,
   "id": "b30186bc",
   "metadata": {},
   "outputs": [],
   "source": [
    "# Train advanced models\n",
    "advanced_2014 = train_advanced_models(df_2014)\n",
    "advanced_2025 = train_advanced_models(df_2025)\n",
    "\n",
    "# Compare Random Forest feature importance\n",
    "rf_2014 = advanced_2014['random_forest']['feature_importance']\n",
    "rf_2025 = advanced_2025['random_forest']['feature_importance']\n",
    "\n",
    "# Create comparison dataframe\n",
    "features = list(rf_2014.keys())\n",
    "importance_2014 = [rf_2014[f] for f in features]\n",
    "importance_2025 = [rf_2025[f] for f in features]\n",
    "\n",
    "feature_importance_df = pd.DataFrame({\n",
    "    'Feature': features,\n",
    "    '2014 Importance': importance_2014,\n",
    "    '2025 Importance': importance_2025\n",
    "})\n",
    "\n",
    "feature_importance_df"
   ]
  },
  {
   "cell_type": "code",
   "execution_count": null,
   "id": "66e2586d",
   "metadata": {},
   "outputs": [],
   "source": [
    "# Visualize feature importance comparison\n",
    "plt.figure(figsize=(10, 6))\n",
    "bar_width = 0.35\n",
    "index = np.arange(len(features))\n",
    "\n",
    "plt.bar(index, feature_importance_df['2014 Importance'], bar_width, label='2014')\n",
    "plt.bar(index + bar_width, feature_importance_df['2025 Importance'], bar_width, label='2025')\n",
    "\n",
    "plt.xlabel('Feature')\n",
    "plt.ylabel('Importance Score')\n",
    "plt.title('Random Forest Feature Importance: 2014 vs 2025')\n",
    "plt.xticks(index + bar_width / 2, features)\n",
    "plt.legend()\n",
    "plt.tight_layout()\n",
    "\n",
    "# Save the figure\n",
    "plt.savefig('../visualizations/feature_importance_comparison.png')\n",
    "plt.show()"
   ]
  },
  {
   "cell_type": "markdown",
   "id": "23ff9e23",
   "metadata": {},
   "source": [
    "## Key Findings\n",
    "\n",
    "1. In 2014, all vehicle characteristics (engine size, cylinders, fuel consumption) were meaningful predictors of CO2 emissions\n",
    "\n",
    "2. By 2025, fuel consumption has become the dominant predictor, with engine size and cylinders showing much weaker relationships\n",
    "\n",
    "3. This suggests a technological evolution in the automotive industry where emissions have been decoupled from engine physical characteristics\n",
    "\n",
    "4. The extremely strong correlation between fuel consumption and CO2 emissions in 2025 (R² = 0.95) suggests a near-deterministic relationship, possibly due to standardization of emissions measurement or calculation methods\n",
    "\n",
    "5. These findings have important implications for emissions policy and vehicle design, suggesting that focusing on fuel efficiency rather than engine size is more effective for reducing emissions"
   ]
  }
 ],
 "metadata": {
  "language_info": {
   "name": "python"
  }
 },
 "nbformat": 4,
 "nbformat_minor": 5
}
