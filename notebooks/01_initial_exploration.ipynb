{
 "cells": [
  {
   "cell_type": "markdown",
   "id": "c383329e",
   "metadata": {},
   "source": [
    "# Initial Data Exploration: Vehicle CO2 Emissions\n",
    "\n",
    "This notebook explores the relationship between vehicle characteristics and CO2 emissions using linear regression models."
   ]
  },
  {
   "cell_type": "code",
   "execution_count": null,
   "id": "dac9ba31",
   "metadata": {},
   "outputs": [],
   "source": [
    "import sys\n",
    "sys.path.append('../')\n",
    "\n",
    "import numpy as np\n",
    "import pandas as pd\n",
    "import matplotlib.pyplot as plt\n",
    "import seaborn as sns\n",
    "\n",
    "from src.data_loader import load_2025_data\n",
    "from src.models import train_basic_models\n",
    "from src.visualization import plot_regression_models, plot_correlation_matrix\n",
    "\n",
    "%matplotlib inline"
   ]
  },
  {
   "cell_type": "markdown",
   "id": "6bbe7939",
   "metadata": {},
   "source": [
    "## Load and Explore the Dataset"
   ]
  },
  {
   "cell_type": "code",
   "execution_count": null,
   "id": "bff743ad",
   "metadata": {},
   "outputs": [],
   "source": [
    "# Load the 2025 dataset\n",
    "df = load_2025_data()\n",
    "df.head()"
   ]
  },
  {
   "cell_type": "code",
   "execution_count": null,
   "id": "be1a14d4",
   "metadata": {},
   "outputs": [],
   "source": [
    "# Basic statistics\n",
    "df.describe()"
   ]
  },
  {
   "cell_type": "code",
   "execution_count": null,
   "id": "5cef4d9a",
   "metadata": {},
   "outputs": [],
   "source": [
    "# Check for missing values\n",
    "df.isna().sum()"
   ]
  },
  {
   "cell_type": "code",
   "execution_count": null,
   "id": "1ebe4992",
   "metadata": {},
   "outputs": [],
   "source": [
    "# Distribution of features\n",
    "fig, axes = plt.subplots(2, 2, figsize=(12, 10))\n",
    "sns.histplot(df['ENGINESIZE'], kde=True, ax=axes[0, 0])\n",
    "axes[0, 0].set_title('Engine Size Distribution')\n",
    "\n",
    "sns.histplot(df['CYLINDERS'], kde=True, ax=axes[0, 1])\n",
    "axes[0, 1].set_title('Cylinders Distribution')\n",
    "\n",
    "sns.histplot(df['FUELCONSUMPTION_COMB'], kde=True, ax=axes[1, 0])\n",
    "axes[1, 0].set_title('Fuel Consumption Distribution')\n",
    "\n",
    "sns.histplot(df['CO2EMISSIONS'], kde=True, ax=axes[1, 1])\n",
    "axes[1, 1].set_title('CO2 Emissions Distribution')\n",
    "\n",
    "plt.tight_layout()\n",
    "plt.show()"
   ]
  },
  {
   "cell_type": "markdown",
   "id": "48f834c3",
   "metadata": {},
   "source": [
    "## Correlation Analysis"
   ]
  },
  {
   "cell_type": "code",
   "execution_count": null,
   "id": "1a0c5fcb",
   "metadata": {},
   "outputs": [],
   "source": [
    "# Plot correlation matrix\n",
    "correlation_fig = plot_correlation_matrix(df)\n",
    "plt.show()\n",
    "\n",
    "# Save the correlation matrix\n",
    "correlation_fig.savefig('../visualizations/correlation_matrix_2025.png')"
   ]
  },
  {
   "cell_type": "markdown",
   "id": "dcb5d665",
   "metadata": {},
   "source": [
    "## Train Basic Regression Models"
   ]
  },
  {
   "cell_type": "code",
   "execution_count": null,
   "id": "13812b71",
   "metadata": {},
   "outputs": [],
   "source": [
    "# Train models\n",
    "results = train_basic_models(df)\n",
    "\n",
    "# Print performance metrics\n",
    "for model_name, metrics in results['metrics'].items():\n",
    "    print(f\"{model_name.capitalize()} Model:\")\n",
    "    print(f\"R² Score: {metrics['r2']:.4f}\")\n",
    "    print(f\"RMSE: {metrics['rmse']:.4f}\")\n",
    "    print(f\"MAE: {metrics['mae']:.4f}\")\n",
    "    print(\"\")"
   ]
  },
  {
   "cell_type": "code",
   "execution_count": null,
   "id": "1064e989",
   "metadata": {},
   "outputs": [],
   "source": [
    "# Plot regression models\n",
    "fig = plot_regression_models(\n",
    "    results['X_train'],\n",
    "    results['X_test'],\n",
    "    results['y_train'],\n",
    "    results['y_test'],\n",
    "    results['models']\n",
    ")\n",
    "plt.show()\n",
    "\n",
    "# Save the figure\n",
    "fig.savefig('../visualizations/regression_models_2025.png')"
   ]
  },
  {
   "cell_type": "markdown",
   "id": "c81f958b",
   "metadata": {},
   "source": [
    "## Key Observations\n",
    "\n",
    "1. Fuel consumption has the strongest correlation with CO2 emissions\n",
    "2. Engine size and cylinders show moderate correlation with emissions\n",
    "3. The multiple regression model using both engine size and fuel consumption performs similarly to the fuel consumption model alone\n",
    "4. This suggests that once fuel consumption is known, engine size provides little additional predictive power"
   ]
  }
 ],
 "metadata": {
  "language_info": {
   "name": "python"
  }
 },
 "nbformat": 4,
 "nbformat_minor": 5
}
